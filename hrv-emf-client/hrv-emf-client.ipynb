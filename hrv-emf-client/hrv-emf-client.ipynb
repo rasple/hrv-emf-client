{
 "cells": [
  {
   "cell_type": "code",
   "execution_count": 4,
   "metadata": {},
   "outputs": [],
   "source": [
    "#all the imports\n",
    "import datetime\n",
    "import random\n",
    "from subprocess import call, check_output\n",
    "import urllib.request as urlget\n",
    "from threading import Timer"
   ]
  },
  {
   "cell_type": "code",
   "execution_count": 3,
   "metadata": {},
   "outputs": [],
   "source": [
    "def on():\n",
    "    time= datetime.datetime.now().isoformat() #current time\n",
    "    print('on')\n",
    "    result=urlget.urlopen(\"http://192.168.0.15:31415/?action=on\").read()\n",
    "    print(result)\n",
    "    print (time)\n",
    "    #switch all devices on"
   ]
  },
  {
   "cell_type": "code",
   "execution_count": 4,
   "metadata": {},
   "outputs": [],
   "source": [
    "def off():\n",
    "    time= datetime.datetime.now().isoformat() #current time\n",
    "    print('off')\n",
    "    result=urlget.urlopen(\"http://192.168.0.15:31415/?action=off\").read()\n",
    "    print(result)\n",
    "    print (time)\n",
    "    #switch all devices off"
   ]
  },
  {
   "cell_type": "code",
   "execution_count": 5,
   "metadata": {},
   "outputs": [],
   "source": [
    "def end():\n",
    "    time= datetime.datetime.now().isoformat() #current time\n",
    "    print(\"messung end\")\n",
    "    print (time)"
   ]
  },
  {
   "cell_type": "code",
   "execution_count": 6,
   "metadata": {},
   "outputs": [
    {
     "name": "stdout",
     "output_type": "stream",
     "text": [
      "25.0\n",
      "2018-10-22 18:27:57.638189\n",
      "on\n",
      "2018-10-22T18:28:22.644911\n",
      "off\n",
      "2018-10-22T18:28:37.646084\n",
      "messung end\n",
      "2018-10-22T18:28:57.646432\n"
     ]
    }
   ],
   "source": [
    "def mess():\n",
    "    f=open('messungerst.txt', 'a')\n",
    "    prewaitingtime= 60*0.25 #3 minutes waiting at the start of the measurement\n",
    "    postwaitingtime= 60*0.25 #atleast 3 minutes waiting after \n",
    "    totaltime= 60* 1 # 15 minutes total time\n",
    "    tut= 60* 0.25 # 5 minutes with \n",
    "    maxtimeshift=totaltime-prewaitingtime-postwaitingtime-tut\n",
    "    start=random.randint(0,maxtimeshift)+prewaitingtime\n",
    "    stop=start+tut\n",
    "    print(start)\n",
    "    #switch all the devices off\n",
    "    time= datetime.datetime.now() #current time\n",
    "    print (time)\n",
    "    t = Timer(start, on)\n",
    "    t.start()\n",
    "    t2= Timer(stop, off)\n",
    "    t2.start()\n",
    "    t3= Timer(totaltime, end)\n",
    "    t3.start()\n",
    "    f.write('\\nNeue Messung Beginn: ')\n",
    "    f.write(time.isoformat())\n",
    "    timestart= time + datetime.timedelta(seconds=start)\n",
    "    timestop= time + datetime.timedelta(seconds=stop)\n",
    "    timeend= time+datetime.timedelta(seconds=totaltime)\n",
    "    f.write(\"\\nStart: \")\n",
    "    f.write(timestart.isoformat())\n",
    "    f.write(\"\\nStop: \")\n",
    "    f.write(timestop.isoformat())\n",
    "    f.write(\"\\nEnd: \")\n",
    "    f.write(timeend.isoformat())\n",
    "    f.close()"
   ]
  },
  {
   "cell_type": "code",
   "execution_count": null,
   "metadata": {},
   "outputs": [],
   "source": []
  }
 ],
 "metadata": {
  "kernelspec": {
   "display_name": "Python 3",
   "language": "python",
   "name": "python3"
  },
  "language_info": {
   "codemirror_mode": {
    "name": "ipython",
    "version": 3
   },
   "file_extension": ".py",
   "mimetype": "text/x-python",
   "name": "python",
   "nbconvert_exporter": "python",
   "pygments_lexer": "ipython3",
   "version": "3.7.0"
  }
 },
 "nbformat": 4,
 "nbformat_minor": 2
}
